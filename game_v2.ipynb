{
 "cells": [
  {
   "cell_type": "code",
   "execution_count": 2,
   "metadata": {},
   "outputs": [
    {
     "name": "stdout",
     "output_type": "stream",
     "text": [
      "Количество попыток: 9\n",
      "Ваш алгоритм угадывает число в среднем за: 8 попыток\n"
     ]
    }
   ],
   "source": [
    "import numpy as np\n",
    "\n",
    "def random_predict(number:int=1) -> int:\n",
    "    \"\"\"Рандомно угадываем число\n",
    "\n",
    "    Args:\n",
    "        number (int, optional): Загаданное число. Defaults to 1.\n",
    "\n",
    "    Returns:\n",
    "        int: Число попыток\n",
    "    \"\"\"\n",
    "    \n",
    "    count = 0\n",
    "    min = 1    \n",
    "    max = 101\n",
    "    \n",
    "    predict = 0 # для первого входа в цикл задаем значение заведомо не равное number\n",
    "    \n",
    "    while number != predict:  \n",
    "        count += 1\n",
    "        predict = np.random.randint(min, max) # предполагаемое число\n",
    "        if predict > number:\n",
    "            max = predict\n",
    "                       \n",
    "        elif predict < number:\n",
    "            min = predict\n",
    "    return count\n",
    "    \n",
    "    \n",
    "    \n",
    "print(f'Количество попыток: {random_predict()}')\n",
    "\n",
    "def score_game(random_predict) -> int:\n",
    "    \"\"\"За какое количество попыток в среднем из 1000 подходов угадывает наш алгоритм\n",
    "\n",
    "    Args:\n",
    "        random_predict ([type]): функция угадывания\n",
    "\n",
    "    Returns:\n",
    "        int: среднее количество попыток\n",
    "    \"\"\"\n",
    "\n",
    "    count_ls = [] # список для сохранения количества попыток\n",
    "    np.random.seed(1) # фиксируем сид для воспроизводимости\n",
    "    random_array = np.random.randint(1, 101, size=(1000)) # загадали список чисел\n",
    "\n",
    "    for number in random_array:\n",
    "        count_ls.append(random_predict(number))\n",
    "\n",
    "    score = int(np.mean(count_ls)) # находим среднее количество попыток\n",
    "\n",
    "    print(f'Ваш алгоритм угадывает число в среднем за: {score} попыток')\n",
    "    return(score)\n",
    "\n",
    "# RUN получилось\n",
    "if __name__ == '__main__':\n",
    "    score_game(random_predict)\n"
   ]
  }
 ],
 "metadata": {
  "kernelspec": {
   "display_name": "Python 3.9.10 64-bit",
   "language": "python",
   "name": "python3"
  },
  "language_info": {
   "codemirror_mode": {
    "name": "ipython",
    "version": 3
   },
   "file_extension": ".py",
   "mimetype": "text/x-python",
   "name": "python",
   "nbconvert_exporter": "python",
   "pygments_lexer": "ipython3",
   "version": "3.9.10"
  },
  "orig_nbformat": 4,
  "vscode": {
   "interpreter": {
    "hash": "5d59d376d5da846e2292898e8543fae60cd823dd4bda305937386528cec7cddd"
   }
  }
 },
 "nbformat": 4,
 "nbformat_minor": 2
}
